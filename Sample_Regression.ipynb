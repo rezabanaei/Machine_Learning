{
  "nbformat": 4,
  "nbformat_minor": 0,
  "metadata": {
    "colab": {
      "provenance": [],
      "authorship_tag": "ABX9TyMzSs7SAbfip8yHyHwg6P1H",
      "include_colab_link": true
    },
    "kernelspec": {
      "name": "python3",
      "display_name": "Python 3"
    },
    "language_info": {
      "name": "python"
    }
  },
  "cells": [
    {
      "cell_type": "markdown",
      "metadata": {
        "id": "view-in-github",
        "colab_type": "text"
      },
      "source": [
        "<a href=\"https://colab.research.google.com/github/rezabanaei/Machine_Learning/blob/main/Sample_Regression.ipynb\" target=\"_parent\"><img src=\"https://colab.research.google.com/assets/colab-badge.svg\" alt=\"Open In Colab\"/></a>"
      ]
    },
    {
      "cell_type": "code",
      "execution_count": 5,
      "metadata": {
        "colab": {
          "base_uri": "https://localhost:8080/"
        },
        "id": "9Ncxb5TTEN-N",
        "outputId": "28b39801-7e12-4864-db4c-22a5aae19458"
      },
      "outputs": [
        {
          "output_type": "stream",
          "name": "stdout",
          "text": [
            "[5, 3, -1, 2, 6] [14, 6, -5.5, 3.5, 18]\n"
          ]
        }
      ],
      "source": [
        "x=[5, 3 , -1, 2, 6]\n",
        "y=[14, 6, -5.5, 3.5, 18]\n",
        "print(x,y)"
      ]
    },
    {
      "cell_type": "code",
      "source": [
        "X, Y,XiYi,Xi2 = 0,0,0,0\n",
        "n = len(x)\n",
        "for i in range(n):\n",
        "  X = X + x[i]\n",
        "  Y = Y + y[i]\n",
        "  XiYi = XiYi + x[i] * y[i]\n",
        "  Xi2 = Xi2 + x[i] ** 2\n",
        "print(n, X, Y, XiYi, Xi2)"
      ],
      "metadata": {
        "colab": {
          "base_uri": "https://localhost:8080/"
        },
        "id": "0f2MC2VNFMfF",
        "outputId": "232ec9a8-020b-41d5-907a-37d7e6b9723b"
      },
      "execution_count": 6,
      "outputs": [
        {
          "output_type": "stream",
          "name": "stdout",
          "text": [
            "5 15 36.0 208.5 75\n"
          ]
        }
      ]
    },
    {
      "cell_type": "code",
      "source": [
        "w1 = (n * XiYi -X * Y) / (n * Xi2 - X**2)\n",
        "print(w1)"
      ],
      "metadata": {
        "colab": {
          "base_uri": "https://localhost:8080/"
        },
        "id": "rUCFxQ7yNFVO",
        "outputId": "a67b5eae-de91-48bd-ee7b-67b3ed8543ab"
      },
      "execution_count": 3,
      "outputs": [
        {
          "output_type": "stream",
          "name": "stdout",
          "text": [
            "3.35\n"
          ]
        }
      ]
    },
    {
      "cell_type": "code",
      "source": [
        "w0 = (Y - w1 * X) / n\n",
        "print(w0)"
      ],
      "metadata": {
        "colab": {
          "base_uri": "https://localhost:8080/"
        },
        "id": "d2lhz_mVOGQN",
        "outputId": "08b6ef8d-694f-44b5-9b1a-bf2fcdadd56c"
      },
      "execution_count": 4,
      "outputs": [
        {
          "output_type": "stream",
          "name": "stdout",
          "text": [
            "-2.85\n"
          ]
        }
      ]
    }
  ]
}