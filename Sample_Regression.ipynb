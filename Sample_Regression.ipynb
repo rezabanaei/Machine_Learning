x=[5, 3 , -1, 2, 6]
y=[14, 6, -5.5, 3.5, 18]
print(x,y)

X, Y,XiYi,Xi2 = 0,0,0,0
n = len(x)
for i in range(n):
  X = X + x[i]
  Y = Y + y[i]
  XiYi=XiYi + x[i] * y[i]
  Xi2 = Xi2 + x[i] ** 2
  print(n, X, Y, XiYi, Xi2)

w1 = (n * XiYi -X * Y) / (n * Xi2 - X**2)
print(w1)

w0 = (Y - w1 * X) / n
print(w0)
