{
  "nbformat": 4,
  "nbformat_minor": 0,
  "metadata": {
    "colab": {
      "provenance": [],
      "authorship_tag": "ABX9TyPOCtZjIjwQOY1JLPOVPgAT",
      "include_colab_link": true
    },
    "kernelspec": {
      "name": "python3",
      "display_name": "Python 3"
    },
    "language_info": {
      "name": "python"
    }
  },
  "cells": [
    {
      "cell_type": "markdown",
      "metadata": {
        "id": "view-in-github",
        "colab_type": "text"
      },
      "source": [
        "<a href=\"https://colab.research.google.com/github/rezabanaei/Machine_Learning/blob/main/Sample_Regression.ipynb\" target=\"_parent\"><img src=\"https://colab.research.google.com/assets/colab-badge.svg\" alt=\"Open In Colab\"/></a>"
      ]
    },
    {
      "cell_type": "code",
      "source": [
        "import numpy as np"
      ],
      "metadata": {
        "id": "8cYxv5NUmHOq"
      },
      "execution_count": 11,
      "outputs": []
    },
    {
      "cell_type": "code",
      "execution_count": 5,
      "metadata": {
        "colab": {
          "base_uri": "https://localhost:8080/"
        },
        "id": "9Ncxb5TTEN-N",
        "outputId": "28b39801-7e12-4864-db4c-22a5aae19458"
      },
      "outputs": [
        {
          "output_type": "stream",
          "name": "stdout",
          "text": [
            "[5, 3, -1, 2, 6] [14, 6, -5.5, 3.5, 18]\n"
          ]
        }
      ],
      "source": [
        "x=[5, 3 , -1, 2, 6]\n",
        "y=[14, 6, -5.5, 3.5, 18]\n",
        "print(x,y)"
      ]
    },
    {
      "cell_type": "code",
      "source": [
        "X, Y,XiYi,Xi2 = 0,0,0,0\n",
        "n = len(x)\n",
        "for i in range(n):\n",
        "  X = X + x[i]\n",
        "  Y = Y + y[i]\n",
        "  XiYi = XiYi + x[i] * y[i]\n",
        "  Xi2 = Xi2 + x[i] ** 2\n",
        "print(n, X, Y, XiYi, Xi2)"
      ],
      "metadata": {
        "colab": {
          "base_uri": "https://localhost:8080/"
        },
        "id": "0f2MC2VNFMfF",
        "outputId": "232ec9a8-020b-41d5-907a-37d7e6b9723b"
      },
      "execution_count": 6,
      "outputs": [
        {
          "output_type": "stream",
          "name": "stdout",
          "text": [
            "5 15 36.0 208.5 75\n"
          ]
        }
      ]
    },
    {
      "cell_type": "code",
      "source": [
        "w1 = (n * XiYi -X * Y) / (n * Xi2 - X**2)\n",
        "print(w1)"
      ],
      "metadata": {
        "colab": {
          "base_uri": "https://localhost:8080/"
        },
        "id": "rUCFxQ7yNFVO",
        "outputId": "5f011735-36cd-4cae-eb25-b0da0f8d2a4f"
      },
      "execution_count": 7,
      "outputs": [
        {
          "output_type": "stream",
          "name": "stdout",
          "text": [
            "3.35\n"
          ]
        }
      ]
    },
    {
      "cell_type": "code",
      "source": [
        "w0 = (Y - w1 * X) / n\n",
        "print(w0)"
      ],
      "metadata": {
        "colab": {
          "base_uri": "https://localhost:8080/"
        },
        "id": "d2lhz_mVOGQN",
        "outputId": "aaa0cc7d-f2fe-423e-9943-dd8ab2320b59"
      },
      "execution_count": 10,
      "outputs": [
        {
          "output_type": "stream",
          "name": "stdout",
          "text": [
            "-2.85\n"
          ]
        }
      ]
    },
    {
      "cell_type": "code",
      "source": [
        "X = np.sum(x)\n",
        "Y = np.sum(y)\n",
        "b1 = (n * np.dot(x,y) - Y*X)/(n*np.dot(x,x)-X**2)\n",
        "b0 = (Y-b1*X)/n\n",
        "b1, b0 = round(b1, 2), round(b0, 2)\n",
        "print(f\"y = {b1} x + {b0}\")"
      ],
      "metadata": {
        "colab": {
          "base_uri": "https://localhost:8080/"
        },
        "id": "hIzxmeZlmBET",
        "outputId": "9d58526f-13ff-4bd2-b6a5-3f4ce83361f1"
      },
      "execution_count": 12,
      "outputs": [
        {
          "output_type": "stream",
          "name": "stdout",
          "text": [
            "y = 3.35 x + -2.85\n"
          ]
        }
      ]
    }
  ]
}